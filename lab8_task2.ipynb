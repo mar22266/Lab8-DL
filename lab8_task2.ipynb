{
 "cells": [
  {
   "cell_type": "markdown",
   "id": "66bd8aa0",
   "metadata": {},
   "source": [
    "# Laboratorio 8 Deep Learning"
   ]
  },
  {
   "cell_type": "markdown",
   "id": "1b40ccf5",
   "metadata": {},
   "source": [
    "## Task 2 - Teoría\n",
    "Responda claramente y con una extensión adecuada las siguientes preguntas:"
   ]
  },
  {
   "cell_type": "markdown",
   "id": "da14f363",
   "metadata": {},
   "source": []
  }
 ],
 "metadata": {
  "language_info": {
   "name": "python"
  }
 },
 "nbformat": 4,
 "nbformat_minor": 5
}
